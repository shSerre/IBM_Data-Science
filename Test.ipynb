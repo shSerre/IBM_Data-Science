{
    "cells": [
        {
            "metadata": {},
            "cell_type": "markdown",
            "source": "Description"
        },
        {
            "metadata": {},
            "cell_type": "code",
            "source": "\nimport os, types\nimport pandas as pd\nfrom botocore.client import Config\nimport ibm_boto3\n\ndef __iter__(self): return 0\n\n# @hidden_cell\n# The following code accesses a file in your IBM Cloud Object Storage. It includes your credentials.\n# You might want to remove those credentials before you share the notebook.\n\nif os.environ.get('RUNTIME_ENV_LOCATION_TYPE') == 'external':\n    endpoint_9ffd1edad3194807b74885f3ff94604f = 'https://s3.eu-geo.objectstorage.softlayer.net'\nelse:\n    endpoint_9ffd1edad3194807b74885f3ff94604f = 'https://s3.eu-geo.objectstorage.service.networklayer.com'\n\nclient_9ffd1edad3194807b74885f3ff94604f = ibm_boto3.client(service_name='s3',\n    ibm_api_key_id='hc9sy458RPKTO5zsfFaxCY2dbiMNQcPPAuaefdnQT5UY',\n    ibm_auth_endpoint=\"https://iam.cloud.ibm.com/oidc/token\",\n    config=Config(signature_version='oauth'),\n    endpoint_url=endpoint_9ffd1edad3194807b74885f3ff94604f)\n\nbody = client_9ffd1edad3194807b74885f3ff94604f.get_object(Bucket='ibmtoolsfordatascience-donotdelete-pr-nngyzuzgzhjn2b',Key='2021_3.csv')['Body']\n# add missing __iter__ method, so pandas accepts body as file-like object\nif not hasattr(body, \"__iter__\"): body.__iter__ = types.MethodType( __iter__, body )\n\ndf_data_1 = pd.read_csv(body)\ndf_data_1.head()\n",
            "execution_count": 2,
            "outputs": [
                {
                    "output_type": "execute_result",
                    "execution_count": 2,
                    "data": {
                        "text/plain": "   Unnamed: 0 Ticker  Total ESG risk  Environment risk  Social risk  \\\n0           0    MMM            35.0              12.8         14.0   \n1           1    ABT            30.0               3.0         16.2   \n2           2   ABBV            29.0               0.6         17.1   \n3           3   ABMD             NaN               NaN          NaN   \n4           4    ACN            11.0               0.6          5.0   \n\n   Governance risk  Controversy score  \n0              8.4                3.0  \n1             10.6                3.0  \n2             11.3                3.0  \n3              NaN                NaN  \n4              5.8                2.0  ",
                        "text/html": "<div>\n<style scoped>\n    .dataframe tbody tr th:only-of-type {\n        vertical-align: middle;\n    }\n\n    .dataframe tbody tr th {\n        vertical-align: top;\n    }\n\n    .dataframe thead th {\n        text-align: right;\n    }\n</style>\n<table border=\"1\" class=\"dataframe\">\n  <thead>\n    <tr style=\"text-align: right;\">\n      <th></th>\n      <th>Unnamed: 0</th>\n      <th>Ticker</th>\n      <th>Total ESG risk</th>\n      <th>Environment risk</th>\n      <th>Social risk</th>\n      <th>Governance risk</th>\n      <th>Controversy score</th>\n    </tr>\n  </thead>\n  <tbody>\n    <tr>\n      <th>0</th>\n      <td>0</td>\n      <td>MMM</td>\n      <td>35.0</td>\n      <td>12.8</td>\n      <td>14.0</td>\n      <td>8.4</td>\n      <td>3.0</td>\n    </tr>\n    <tr>\n      <th>1</th>\n      <td>1</td>\n      <td>ABT</td>\n      <td>30.0</td>\n      <td>3.0</td>\n      <td>16.2</td>\n      <td>10.6</td>\n      <td>3.0</td>\n    </tr>\n    <tr>\n      <th>2</th>\n      <td>2</td>\n      <td>ABBV</td>\n      <td>29.0</td>\n      <td>0.6</td>\n      <td>17.1</td>\n      <td>11.3</td>\n      <td>3.0</td>\n    </tr>\n    <tr>\n      <th>3</th>\n      <td>3</td>\n      <td>ABMD</td>\n      <td>NaN</td>\n      <td>NaN</td>\n      <td>NaN</td>\n      <td>NaN</td>\n      <td>NaN</td>\n    </tr>\n    <tr>\n      <th>4</th>\n      <td>4</td>\n      <td>ACN</td>\n      <td>11.0</td>\n      <td>0.6</td>\n      <td>5.0</td>\n      <td>5.8</td>\n      <td>2.0</td>\n    </tr>\n  </tbody>\n</table>\n</div>"
                    },
                    "metadata": {}
                }
            ]
        },
        {
            "metadata": {},
            "cell_type": "code",
            "source": "",
            "execution_count": null,
            "outputs": []
        }
    ],
    "metadata": {
        "kernelspec": {
            "name": "python3",
            "display_name": "Python 3.7",
            "language": "python"
        },
        "language_info": {
            "name": "python",
            "version": "3.7.10",
            "mimetype": "text/x-python",
            "codemirror_mode": {
                "name": "ipython",
                "version": 3
            },
            "pygments_lexer": "ipython3",
            "nbconvert_exporter": "python",
            "file_extension": ".py"
        }
    },
    "nbformat": 4,
    "nbformat_minor": 1
}